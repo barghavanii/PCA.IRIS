{
  "nbformat": 4,
  "nbformat_minor": 0,
  "metadata": {
    "colab": {
      "provenance": []
    },
    "kernelspec": {
      "name": "python3",
      "display_name": "Python 3"
    },
    "language_info": {
      "name": "python"
    }
  },
  "cells": [
    {
      "cell_type": "code",
      "source": [
        "import pandas as pd\n",
        "iris = pd.read_csv('/content/longley.csv')\n",
        "iris.shape\n",
        "iris.head()\n",
        "labels = iris.iloc[:,-1]\n",
        "iris.head()\n",
        "\n",
        "iris.shape\n",
        "iris.head()\n",
        "\n",
        "from sklearn.decomposition import PCA\n",
        "m = 2\n",
        "pca = PCA(n_components=m)\n",
        "\n",
        "iris_reduced = pca.fit_transform(iris)\n",
        "iris_reduced.shape\n",
        "iris_recovered = pca.inverse_transform(iris_reduced)\n",
        "iris_recovered.shape\n",
        "\n",
        "image = iris_recovered[1].reshape(4)\n",
        "import matplotlib.pyplot as plt\n",
        "#plt.imshow(image, cmap='gray_r')\n",
        "\n",
        "import matplotlib.pyplot as plt\n",
        "with plt.style.context('seaborn-whitegrid'):\n",
        "  plt.figure(figsize=(8,6))\n",
        "mr = iris_reduced[0:1000,:]\n",
        "lb = labels.iloc[0:1000]\n",
        "Colors = ('blue', 'red', 'green') \n",
        "for i,color in enumerate(Colors):\n",
        "  plt.scatter(mr[lb==i,0],mr[lb==i,1],label=i,c=color,edgecolor='black')\n",
        "plt.legend(loc='upper right')\n",
        "plt.tight_layout()\n",
        "plt.show()\n",
        "\n",
        "%matplotlib notebook\n",
        "import matplotlib.pyplot as plt\n",
        "from mpl_toolkits import mplot3d\n",
        "plt.figure(figsize=(8,6))\n",
        "P = plt.axes(projection='3d')\n",
        "P.set_axis_off() #hide axes\n",
        "ir = iris_reduced[0:1000,]\n",
        "lb = labels.iloc[0:1000]\n",
        "Colors = ('blue', 'red', 'green') \n",
        "for i,color in enumerate(Colors):\n",
        "  P.scatter(ir[lb==i,0],ir[lb==i,1],label=i,c=color,edgecolor='black')\n",
        "plt.legend(loc='upper right')\n",
        "plt.tight_layout()\n",
        "plt.show()\n",
        "\n"
      ],
      "metadata": {
        "colab": {
          "base_uri": "https://localhost:8080/",
          "height": 235
        },
        "id": "hqparCji8-Q4",
        "outputId": "579775f0-d43f-4eaf-93a9-7043d4b4c8c9"
      },
      "execution_count": null,
      "outputs": [
        {
          "output_type": "error",
          "ename": "ValueError",
          "evalue": "ignored",
          "traceback": [
            "\u001b[0;31m---------------------------------------------------------------------------\u001b[0m",
            "\u001b[0;31mValueError\u001b[0m                                Traceback (most recent call last)",
            "\u001b[0;32m<ipython-input-3-2b86721faa56>\u001b[0m in \u001b[0;36m<module>\u001b[0;34m\u001b[0m\n\u001b[1;32m     18\u001b[0m \u001b[0miris_recovered\u001b[0m\u001b[0;34m.\u001b[0m\u001b[0mshape\u001b[0m\u001b[0;34m\u001b[0m\u001b[0;34m\u001b[0m\u001b[0m\n\u001b[1;32m     19\u001b[0m \u001b[0;34m\u001b[0m\u001b[0m\n\u001b[0;32m---> 20\u001b[0;31m \u001b[0mimage\u001b[0m \u001b[0;34m=\u001b[0m \u001b[0miris_recovered\u001b[0m\u001b[0;34m[\u001b[0m\u001b[0;36m1\u001b[0m\u001b[0;34m]\u001b[0m\u001b[0;34m.\u001b[0m\u001b[0mreshape\u001b[0m\u001b[0;34m(\u001b[0m\u001b[0;36m4\u001b[0m\u001b[0;34m)\u001b[0m\u001b[0;34m\u001b[0m\u001b[0;34m\u001b[0m\u001b[0m\n\u001b[0m\u001b[1;32m     21\u001b[0m \u001b[0;32mimport\u001b[0m \u001b[0mmatplotlib\u001b[0m\u001b[0;34m.\u001b[0m\u001b[0mpyplot\u001b[0m \u001b[0;32mas\u001b[0m \u001b[0mplt\u001b[0m\u001b[0;34m\u001b[0m\u001b[0;34m\u001b[0m\u001b[0m\n\u001b[1;32m     22\u001b[0m \u001b[0;31m#plt.imshow(image, cmap='gray_r')\u001b[0m\u001b[0;34m\u001b[0m\u001b[0;34m\u001b[0m\u001b[0;34m\u001b[0m\u001b[0m\n",
            "\u001b[0;31mValueError\u001b[0m: cannot reshape array of size 7 into shape (4,)"
          ]
        }
      ]
    },
    {
      "cell_type": "code",
      "source": [],
      "metadata": {
        "id": "_Rlha4n8KLpH"
      },
      "execution_count": null,
      "outputs": []
    }
  ]
}